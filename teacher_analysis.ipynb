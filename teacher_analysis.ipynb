{
 "cells": [
  {
   "cell_type": "code",
   "execution_count": null,
   "id": "be749586-5d0c-47b5-b7d1-fea1bee8bffb",
   "metadata": {},
   "outputs": [],
   "source": [
    "import pandas as pd\n",
    "import numpy as np\n",
    "from pathlib import Path\n",
    "import scipy.stats.distributions as dist\n",
    "import holoviews as hv\n",
    "import hvplot.pandas\n",
    "%matplotlib inline\n"
   ]
  },
  {
   "cell_type": "code",
   "execution_count": null,
   "id": "79f78db7-4218-4547-8950-1f68a2f79e20",
   "metadata": {},
   "outputs": [],
   "source": [
    "# Importing the data for training year and board certification year\n",
    "# Setting the path of the csv file\n",
    "data_file = Path(\"Decision_Analytics_TeacherDataset.xlsx\")\n",
    "# Importing the data file and setting the teacher id as the index column.\n",
    "df = pd.read_excel(data_file)\n",
    "df.set_index('teacher_id', inplace = True)\n",
    "# Reviewing first 5 rows of the DataFrame\n",
    "df.head()"
   ]
  },
  {
   "cell_type": "code",
   "execution_count": null,
   "id": "964ea1dc-9ca8-4d0b-9ed0-3653a3a99b1d",
   "metadata": {},
   "outputs": [],
   "source": [
    "# Importing the data on the evaluation scores\n",
    "# Setting the path of the csv file\n",
    "data_file = Path(\"Decision_Analytics_TeacherDataset.xlsx\")\n",
    "# Importing the data file and setting the teacher id as the index column.\n",
    "df2 = pd.read_excel(data_file, sheet_name='performance_evaluations',skiprows=1)\n",
    "# Reviewing first 5 rows of the DataFrame\n",
    "df2 = pd.melt(df2, id_vars='teacher_id',var_name='year',value_name='eval_score')\n",
    "df2.set_index('teacher_id',inplace = True)\n",
    "df2.head()"
   ]
  },
  {
   "cell_type": "code",
   "execution_count": null,
   "id": "49f746cf-16b2-45fd-964c-0b2ddfba4591",
   "metadata": {},
   "outputs": [],
   "source": [
    "df['pass'] = df['training_year'] == df['board_cert_year']\n",
    "df['prior90'] = df['training_year'] < 1990\n",
    "df = df.astype({'pass': int, 'prior90': int})\n",
    "df.describe()"
   ]
  },
  {
   "cell_type": "code",
   "execution_count": null,
   "id": "86719042-2ea2-4c84-b13f-40b9419a138d",
   "metadata": {},
   "outputs": [],
   "source": [
    "df.groupby(['training_year']).agg({'pass': np.mean}).hvplot.line()"
   ]
  },
  {
   "cell_type": "code",
   "execution_count": null,
   "id": "788c6e52-7caa-4f95-86aa-f2fc851a177c",
   "metadata": {},
   "outputs": [],
   "source": [
    "#Drop anomaly years\n",
    "indexYears = df[(df['training_year'] == 1991) | (df['training_year'] == 1993) | (df['training_year'] == 1995) | (df['training_year'] >= 2000)].index\n",
    "df.drop(indexYears , inplace=True)\n",
    "df.head(15)"
   ]
  },
  {
   "cell_type": "code",
   "execution_count": null,
   "id": "f12a6847-fce4-4144-b5e2-8717be946cdb",
   "metadata": {},
   "outputs": [],
   "source": [
    "df.groupby(['training_year']).agg({'pass': np.mean}).hvplot.line()"
   ]
  },
  {
   "cell_type": "code",
   "execution_count": null,
   "id": "1bea4a9c-c97b-4ebe-96c9-8790d45670de",
   "metadata": {},
   "outputs": [],
   "source": [
    "#Assemble frequencies and encode the variables\n",
    "dftest=df.loc[:, [\"pass\",\"prior90\"]]\n",
    "dftest['pass'] = dftest['pass'].map({1:'Passed on 1st Try',0:'Failed on 1st Try'}) \n",
    "dftest['prior90'] = dftest['prior90'].map({1:'Before 1990',0:'1990 or Later'}) "
   ]
  },
  {
   "cell_type": "code",
   "execution_count": null,
   "id": "480559df-d4f3-43ad-a6c1-bcf70e1c7fc0",
   "metadata": {},
   "outputs": [],
   "source": [
    "contingency_table = pd.crosstab(dftest['pass'],dftest['prior90'])\n",
    "contingency_table"
   ]
  },
  {
   "cell_type": "code",
   "execution_count": null,
   "id": "299b5864-bed4-4e2a-9788-e2281b0d54f3",
   "metadata": {},
   "outputs": [],
   "source": [
    "contingency_table = pd.crosstab(dftest['pass'],dftest['prior90']).apply(lambda r:r/r.sum(),axis=0)\n",
    "contingency_table"
   ]
  },
  {
   "cell_type": "code",
   "execution_count": null,
   "id": "867b7773-7d93-479d-aa27-1494293de379",
   "metadata": {},
   "outputs": [],
   "source": [
    "# Join the evaluation scores with certification data"
   ]
  }
 ],
 "metadata": {
  "kernelspec": {
   "display_name": "Python 3 (ipykernel)",
   "language": "python",
   "name": "python3"
  },
  "language_info": {
   "codemirror_mode": {
    "name": "ipython",
    "version": 3
   },
   "file_extension": ".py",
   "mimetype": "text/x-python",
   "name": "python",
   "nbconvert_exporter": "python",
   "pygments_lexer": "ipython3",
   "version": "3.7.13"
  }
 },
 "nbformat": 4,
 "nbformat_minor": 5
}
